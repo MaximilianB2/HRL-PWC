{
 "cells": [
  {
   "cell_type": "code",
   "execution_count": 1,
   "metadata": {},
   "outputs": [],
   "source": [
    "import torch\n",
    "import numpy as np\n",
    "from stable_baselines3 import SAC"
   ]
  },
  {
   "cell_type": "code",
   "execution_count": null,
   "metadata": {},
   "outputs": [],
   "source": [
    "class Net(torch.nn.Module):\n",
    "\n",
    "  def __init__(self, n_fc1, n_fc2, activation,n_layers,**kwargs):\n",
    "    super(Net, self).__init__()\n",
    "\n",
    "    # Unpack the dictionary\n",
    "    self.args     = kwargs\n",
    "    self.dtype    = torch.float\n",
    "    self.use_cuda = torch.cuda.is_available()\n",
    "    self.device   = torch.device(\"cpu\")\n",
    "\n",
    "    self.input_size = 6 #State size: Ca, T, Ca setpoint and T setpoint\n",
    "    self.output_sz  = 7 #Output size: Reactor Ks size\n",
    "    self.n_layers = torch.nn.ModuleList()\n",
    "    self.hs1        = n_fc1                                    # !! parameters\n",
    "    self.hs2        = n_fc2                                      # !! parameter\n",
    "\n",
    "    # defining layer\n",
    "    self.hidden1 = torch.nn.Linear(self.input_size, self.hs1 )\n",
    "    self.act = activation()\n",
    "    self.hidden2 = torch.nn.Linear(self.hs1, self.hs2)\n",
    "    for i in range(0,n_layers):\n",
    "      linear_layer = torch.nn.Linear(self.hs2,self.hs2)\n",
    "      self.n_layers.append(linear_layer)\n",
    "    self.output = torch.nn.Linear(self.hs2, self.output_sz)\n",
    "\n",
    "    #self.af     = torch.nn.Tanh()\n",
    "\n",
    "  def forward(self, x):\n",
    "\n",
    "    x = x.float()\n",
    "    y           = self.act(self.hidden1(x))\n",
    "    y           = self.act(self.hidden2(y))\n",
    "    for i,layer in enumerate(self.n_layers):\n",
    "      y           = self.act(layer(y))\n",
    "    y           = F.relu6(self.output(y))                                       # range (0,6)\n",
    "\n",
    "    return y"
   ]
  },
  {
   "cell_type": "code",
   "execution_count": null,
   "metadata": {},
   "outputs": [],
   "source": []
  }
 ],
 "metadata": {
  "kernelspec": {
   "display_name": "Python 3",
   "language": "python",
   "name": "python3"
  },
  "language_info": {
   "codemirror_mode": {
    "name": "ipython",
    "version": 3
   },
   "file_extension": ".py",
   "mimetype": "text/x-python",
   "name": "python",
   "nbconvert_exporter": "python",
   "pygments_lexer": "ipython3",
   "version": "3.11.8"
  }
 },
 "nbformat": 4,
 "nbformat_minor": 2
}
